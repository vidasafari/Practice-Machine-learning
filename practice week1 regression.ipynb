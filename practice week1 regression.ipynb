{
 "cells": [
  {
   "cell_type": "markdown",
   "metadata": {},
   "source": [
    "خواندن فایل های  کتابخانه ای "
   ]
  },
  {
   "cell_type": "code",
   "execution_count": 1,
   "metadata": {},
   "outputs": [],
   "source": [
    "import pandas as pd\n",
    "import matplotlib.pyplot as plt"
   ]
  },
  {
   "cell_type": "markdown",
   "metadata": {},
   "source": [
    "تعریف دیکشنری بر روی داده ها و تعیین نوعشان"
   ]
  },
  {
   "cell_type": "code",
   "execution_count": 2,
   "metadata": {},
   "outputs": [],
   "source": [
    "dtype_dict = {'bathrooms':float, 'waterfront':int, 'sqft_above':int, 'sqft_living15':float, 'grade':int, 'yr_renovated':int, 'price':float, 'bedrooms':float, 'zipcode':str, 'long':float, 'sqft_lot15':float, 'sqft_living':float, 'floors':str, 'condition':int, 'lat':float, 'date':str, 'sqft_basement':int, 'yr_built':int, 'id':str, 'sqft_lot':int, 'view':int}\n"
   ]
  },
  {
   "cell_type": "markdown",
   "metadata": {},
   "source": [
    "train , test آدرس دهی داده های  "
   ]
  },
  {
   "cell_type": "code",
   "execution_count": 3,
   "metadata": {},
   "outputs": [],
   "source": [
    "trainData = pd.read_csv(\"kc_house_train_data.csv\", dtype=dtype_dict)\n",
    "testData = pd.read_csv(\"kc_house_test_data.csv\", dtype=dtype_dict)"
   ]
  },
  {
   "cell_type": "markdown",
   "metadata": {},
   "source": [
    "  با تعیین نوع داده هایمان train فراخوانی داده"
   ]
  },
  {
   "cell_type": "code",
   "execution_count": 4,
   "metadata": {
    "scrolled": true
   },
   "outputs": [
    {
     "data": {
      "text/plain": [
       "id                object\n",
       "date              object\n",
       "price            float64\n",
       "bedrooms         float64\n",
       "bathrooms        float64\n",
       "sqft_living      float64\n",
       "sqft_lot           int32\n",
       "floors            object\n",
       "waterfront         int32\n",
       "view               int32\n",
       "condition          int32\n",
       "grade              int32\n",
       "sqft_above         int32\n",
       "sqft_basement      int32\n",
       "yr_built           int32\n",
       "yr_renovated       int32\n",
       "zipcode           object\n",
       "lat              float64\n",
       "long             float64\n",
       "sqft_living15    float64\n",
       "sqft_lot15       float64\n",
       "dtype: object"
      ]
     },
     "execution_count": 4,
     "metadata": {},
     "output_type": "execute_result"
    }
   ],
   "source": [
    "trainData.dtypes"
   ]
  },
  {
   "cell_type": "markdown",
   "metadata": {},
   "source": [
    "  با تعیین نوع داده هایمان test فراخوانی داده"
   ]
  },
  {
   "cell_type": "code",
   "execution_count": 5,
   "metadata": {},
   "outputs": [
    {
     "data": {
      "text/plain": [
       "id                object\n",
       "date              object\n",
       "price            float64\n",
       "bedrooms         float64\n",
       "bathrooms        float64\n",
       "sqft_living      float64\n",
       "sqft_lot           int32\n",
       "floors            object\n",
       "waterfront         int32\n",
       "view               int32\n",
       "condition          int32\n",
       "grade              int32\n",
       "sqft_above         int32\n",
       "sqft_basement      int32\n",
       "yr_built           int32\n",
       "yr_renovated       int32\n",
       "zipcode           object\n",
       "lat              float64\n",
       "long             float64\n",
       "sqft_living15    float64\n",
       "sqft_lot15       float64\n",
       "dtype: object"
      ]
     },
     "execution_count": 5,
     "metadata": {},
     "output_type": "execute_result"
    }
   ],
   "source": [
    "testData.dtypes"
   ]
  },
  {
   "cell_type": "markdown",
   "metadata": {},
   "source": [
    "  پرداخته شده regression در این قسمت به نمایش نمودارهای"
   ]
  },
  {
   "cell_type": "code",
   "execution_count": 6,
   "metadata": {},
   "outputs": [],
   "source": [
    "#نمایش دادن مدل ریگرشن روی داده های ورودی مثل  عرض از مبدا و شیب خط \n",
    "def plot_regression_line(inputFeatures, outputs, intercept,slope,inputFeaturesLabel,outputsLabel):\n",
    "    \n",
    "    #نمایش و تعیین رنگ قرمز  و سایز ورودی داده ها و خروجی پرداخته شده\n",
    "    plt.scatter(inputFeatures, outputs, color = \"R\",marker = \"o\", s = 5)\n",
    "    \n",
    "    #ساخت یک متغیر به اسم پیش بینی : حال تابع ریگرشن به همراه داده های ورودی و عرض از مبدا و شیب خط را درونش قرار داده ایم\n",
    "    predictions = get_regression_predictions(inputFeatures, intercept, slope)\n",
    "    \n",
    "    # نمایش داده های ورودی و پیش بینی با رنگ سبز\n",
    "    plt.plot(inputFeatures, predictions, color = \"g\")\n",
    "    \n",
    "    # زدن بر چسب به ورودی و خروجی ها \n",
    "    plt.xlabel(inputFeaturesLabel)\n",
    "    plt.ylabel(outputsLabel)\n",
    "    \n",
    "    # در نهایت با توجه به کد هایی که نوشته ایم همه را می توانیم از این دستور نمایش دهیم\n",
    "    plt.show()"
   ]
  },
  {
   "cell_type": "markdown",
   "metadata": {},
   "source": [
    "  پرداخته شده simple-linear- regression  در این قسمت به فراخوانی توابع"
   ]
  },
  {
   "cell_type": "markdown",
   "metadata": {},
   "source": [
    "(1) I write a generic function that accepts a column of data ‘input_feature’ and another column ‘output’ and returns the Simple Linear Regression parameters ‘intercept’ and ‘slope’ with closed form solution. \n",
    "What we need \n",
    "The number of data points \n",
    "The mean of the sum of the input \n",
    "The mean of the sum of the output \n",
    "The mean of the sum of the multiply of the input and the output \n",
    "The mean of the sum of the input squared"
   ]
  },
  {
   "cell_type": "code",
   "execution_count": 7,
   "metadata": {},
   "outputs": [],
   "source": [
    "#  روی داده های ورودی و خروجیsimple-linear- regression تعریف تابع \n",
    "def simple_linear_regression(inputFeatures, outputs):\n",
    "    \n",
    "    # در این قسمت روی داده ها ی ورودی یک شمارنده میگذاریم\n",
    "    dataCount = inputFeatures.count()\n",
    "    \n",
    "    # از ورودیمان میخواهیم یک میانگین بگیریم و در یک متغیر آنرا بریزیم\n",
    "    inputMean = inputFeatures.sum() / dataCount\n",
    "    \n",
    "    # از خروجیمان میخواهیم یک میانگین بگیریم و در یک متغیر آنرا بریزیم\n",
    "    outputMean = outputs.sum() / dataCount\n",
    "    \n",
    "    # میانگین گیری به شرط ضرب ورودی و خروجی داده ها و تقسیم بر شمارنده هایی هر بار  میدهد و در نهایت در یک متغیر میریزیم \n",
    "    inputOutputMean = (inputFeatures * outputs).sum() / dataCount\n",
    "    \n",
    "    #   میانگین مربعات را روی داده های ورودی میگیریم و درون یک متغیر قرار میدهیم طبق اپروچ 1\n",
    "    inputSquaredMean = (inputFeatures ** 2).sum() / dataCount\n",
    "    \n",
    "    #حال در صورت کسرمان میانگین ورودی و خروجی که از قبل گرفته ایم را  از ضرب میانگین ورودی و خروجی کم میکنیم \n",
    "    numerator = (inputOutputMean) - (inputMean)*(outputMean)\n",
    "    \n",
    "   #حال در مخرج کسرمان متغیر قبلی را از ضرب میانگین ورودی و خروجی کم میکنیم \n",
    "    denominator = (inputSquaredMean) - (inputMean)*(inputMean)\n",
    "    \n",
    "    # برای بدست آوردن شیب خط باید صورت کسر را در مخرج کسر تقسیم کنیم\n",
    "    slope = numerator/denominator\n",
    "    \n",
    "    #برای بدست آوردن عرض از مبدا باید میانگین گیری خروجیمان را از شیب خط در میانگین گیری ورودیمان کم کنیم \n",
    "    intercept = (outputMean) - slope * (inputMean)\n",
    "    \n",
    "    #در نهایت عرض از مبدا و شیب خط را برمیگرداند و نشان میدهد\n",
    "    return(intercept, slope)"
   ]
  },
  {
   "cell_type": "markdown",
   "metadata": {},
   "source": [
    "در این قسمت به تخمین شیب خط و عرض از مبدا روی داده های ترین برای پیش بینی قیمت خانه با دادن متراژ خانه میپردازیم"
   ]
  },
  {
   "cell_type": "markdown",
   "metadata": {},
   "source": [
    " (2)Use your function to calculate the estimated slope and intercept on the training data to predict ‘price’ given ‘sqft_living’.\n",
    "\n"
   ]
  },
  {
   "cell_type": "code",
   "execution_count": 8,
   "metadata": {},
   "outputs": [],
   "source": [
    "#تعیین و مشخص کردن متراژ خانه از داده ترین و درون یک متغیر میریزیم \n",
    "sqftLivingInputFeatures = trainData['sqft_living']\n",
    "#حال قیمت را از داده ترین درون یک متغیر میریزیم\n",
    "priceOutputs = trainData['price']\n",
    "# حال تابع ریگرشن خطی را روی متراژ و قیمت تعریف میکنیم و درون یک متغیر میریزیم \n",
    "sqftLivingIntercept, sqftLivingSlope = simple_linear_regression(sqftLivingInputFeatures, priceOutputs)"
   ]
  },
  {
   "cell_type": "markdown",
   "metadata": {},
   "source": [
    "حال نتایج عرض از مبدا و شیب خط را نمایش میدهیم که در نهایت مقدار جفتشان با این کد نویسی نمایش داده میشود"
   ]
  },
  {
   "cell_type": "code",
   "execution_count": 9,
   "metadata": {},
   "outputs": [
    {
     "name": "stdout",
     "output_type": "stream",
     "text": [
      "-47116.07907289488 281.95883963034294\n"
     ]
    }
   ],
   "source": [
    "print(sqftLivingIntercept,sqftLivingSlope)"
   ]
  },
  {
   "cell_type": "markdown",
   "metadata": {},
   "source": [
    "تعریف تابعی برای پیش بینی خروجی"
   ]
  },
  {
   "cell_type": "markdown",
   "metadata": {},
   "source": [
    "\n",
    "(3)Write a function that accepts a column of data ‘input_feature’, the ‘slope’, and the ‘intercept’ and returns an a column of predictions ‘predicted_output’ for each entry in the input column"
   ]
  },
  {
   "cell_type": "code",
   "execution_count": 10,
   "metadata": {},
   "outputs": [],
   "source": [
    "# Y = W0 + (W1 * X)\n",
    "#   تعریف تابع ریگرشن برای پیش بینی روی داده های ورودی و عرض از مبدا و شیب خط \n",
    "def get_regression_predictions(inputFeatureCell, intercept, slope):\n",
    "    \n",
    "    #   به پیش بینی خروجیمان پرداخته شده با در نظر گرفتن داده های ورودی و عرض از مبدا و شیب خط\n",
    "    predictedOutput = intercept + (slope * inputFeatureCell)\n",
    "    \n",
    "    #در نهایت پیش بینی خروجی را بر میگرداند\n",
    "    return(predictedOutput)"
   ]
  },
  {
   "cell_type": "markdown",
   "metadata": {},
   "source": [
    "با استفاده از شیب خط و عرض از مبدا میپردازیم به پیش بینی قیمت خانه با توجه به متراژ = 2650"
   ]
  },
  {
   "cell_type": "markdown",
   "metadata": {},
   "source": [
    "(4) Quiz Question: Using your Slope and Intercept from (2), What is the predicted price for a house with 2650 sqft?\n",
    "\n"
   ]
  },
  {
   "cell_type": "code",
   "execution_count": 11,
   "metadata": {},
   "outputs": [
    {
     "data": {
      "text/plain": [
       "700074.8459475139"
      ]
     },
     "execution_count": 11,
     "metadata": {},
     "output_type": "execute_result"
    }
   ],
   "source": [
    "# با دادن تابع ریگرشن روی متراژ و عرض از مبدا و شیب خط حال قیمت را پیش بینی میکنیم\n",
    "get_regression_predictions(2650, sqftLivingIntercept, sqftLivingSlope)"
   ]
  },
  {
   "cell_type": "markdown",
   "metadata": {},
   "source": [
    "در این قسمت به محاسبه میانگین مربعات میپردازیم"
   ]
  },
  {
   "cell_type": "markdown",
   "metadata": {},
   "source": [
    "(5) Write a function that accepts column of data: ‘input_feature’, and ‘output’ and the regression parameters ‘slope’ and ‘intercept’ and outputs the Residual Sum of Squares (RSS)."
   ]
  },
  {
   "cell_type": "code",
   "execution_count": 12,
   "metadata": {},
   "outputs": [],
   "source": [
    "#RSS (Y - [W0 + (W1 * X)]) ** 2\n",
    "#تعریف تابع میانگین مربعات به روی داده های ورودی و خروجی و عرض از مبدا و شیب خط\n",
    "def get_residual_sum_of_squares(inputFeatures, outputs, intercept,slope):\n",
    "    \n",
    "    # تعریف شمارنده به روی داده های ورودی\n",
    "    dataCount = inputFeatures.count()\n",
    "    RSS = 0\n",
    "    #  تعریف یک حلقه برای داده های ورودی با توجه به شمارنده ورودی ها \n",
    "    for index,inputFeature in enumerate(inputFeatures):\n",
    "        # طبق فرمول RSS تعریف \n",
    "        RSS = RSS + ((outputs[index] - get_regression_predictions(inputFeature, intercept, slope)) ** 2)\n",
    "        #را برمیگرداند RSS در نهایت \n",
    "    return(RSS)"
   ]
  },
  {
   "cell_type": "markdown",
   "metadata": {},
   "source": [
    " پرداخته ام RSS در این قسمت به محاسبه "
   ]
  },
  {
   "cell_type": "markdown",
   "metadata": {},
   "source": [
    "(6) Quiz Question: According to this function and the slope and intercept from (2) What is the RSS for the simple linear regression using squarefeet to predict prices on TRAINING data?\n",
    "\n"
   ]
  },
  {
   "cell_type": "code",
   "execution_count": 13,
   "metadata": {},
   "outputs": [
    {
     "data": {
      "text/plain": [
       "1201918354177285.2"
      ]
     },
     "execution_count": 13,
     "metadata": {},
     "output_type": "execute_result"
    }
   ],
   "source": [
    "#به روی متراژ داده ها و قیمت خانه و متراژ عرض از مبدا و متراژ شیب خط حال پیش بینی این تابع را بدست می آوریمget_residual_sum_of_squares با تعریف ای تابع \n",
    "get_residual_sum_of_squares(sqftLivingInputFeatures, priceOutputs, sqftLivingIntercept,sqftLivingSlope)"
   ]
  },
  {
   "cell_type": "markdown",
   "metadata": {},
   "source": [
    "در این قسمت به معکوس کردن تابع ریگرشن روی داده ها میپردازیم"
   ]
  },
  {
   "cell_type": "markdown",
   "metadata": {},
   "source": [
    "(7)Note that although we estimated the regression slope and intercept in order to predict the output from the input, since this is a simple linear relationship with only two variables we can invert the linear function to estimate the input given the output! \n",
    "Write a function that accept a column of data:‘output’ and the regression parameters ‘slope’ and ‘intercept’ and outputs the column of data: ‘estimated_input’."
   ]
  },
  {
   "cell_type": "code",
   "execution_count": 14,
   "metadata": {},
   "outputs": [],
   "source": [
    "# X = (Y - W0) / W1 =\n",
    "# تعریف تابع معکوس به روی خروجی  و عرض از مبدا و شیب خط طبق فرمول بالا\n",
    "def inverse_regression_predictions(outputCell, intercept, slope):\n",
    "    estimatedInput = (outputCell - intercept) / slope\n",
    "    return(estimatedInput)"
   ]
  },
  {
   "cell_type": "markdown",
   "metadata": {},
   "source": [
    "در این قسمت به پیش بینی متراژ با توجه به این قیمت $800,000 "
   ]
  },
  {
   "cell_type": "markdown",
   "metadata": {},
   "source": [
    "(8) Quiz Question: According to this function and the regression slope and intercept from (1) what is the estimated square-feet for a house costing $800,000?"
   ]
  },
  {
   "cell_type": "code",
   "execution_count": 15,
   "metadata": {},
   "outputs": [
    {
     "data": {
      "text/plain": [
       "3004.3962451522752"
      ]
     },
     "execution_count": 15,
     "metadata": {},
     "output_type": "execute_result"
    }
   ],
   "source": [
    "#در اینجا قیمت را داریم پس باید متراژ را محاسبه کنیم\n",
    "inverse_regression_predictions(800000, sqftLivingIntercept, sqftLivingSlope)"
   ]
  },
  {
   "cell_type": "markdown",
   "metadata": {},
   "source": [
    "در این قسمت با توجه به متراژ خانه میپردازیم به تخمین قیمت اتاق خوابها  با استفاده از تابع ریگرشن خطی "
   ]
  },
  {
   "cell_type": "markdown",
   "metadata": {},
   "source": [
    "(9)Instead of using ‘sqft_living’ to estimate prices we could use ‘bedrooms’ (a count of the number of bedrooms in the house) to estimate prices. Using your function from (1) calculate the Simple Linear Regression slope and intercept for estimating price based on bedrooms. Save this slope and intercept for later (you might want to call them e.g. bedroom_slope, bedroom_intercept)."
   ]
  },
  {
   "cell_type": "code",
   "execution_count": 16,
   "metadata": {},
   "outputs": [],
   "source": [
    "\n",
    "bedroomsInputFeatures = trainData['bedrooms']\n",
    "priceOutputs = trainData['price']\n",
    "bedroomsIntercept, bedroomsSlope = simple_linear_regression(bedroomsInputFeatures, priceOutputs)"
   ]
  },
  {
   "cell_type": "code",
   "execution_count": 17,
   "metadata": {},
   "outputs": [
    {
     "name": "stdout",
     "output_type": "stream",
     "text": [
      "109473.17762295791 127588.95293398833\n"
     ]
    }
   ],
   "source": [
    "print(bedroomsIntercept,bedroomsSlope)"
   ]
  },
  {
   "cell_type": "markdown",
   "metadata": {},
   "source": [
    "در این قسمت  2 مدل  مختلف برای محاسیه میانگین مربعات به روی داده های تست داریم"
   ]
  },
  {
   "cell_type": "markdown",
   "metadata": {},
   "source": [
    "(10)Now that we have 2 different models compute the RSS from BOTH models on TEST data."
   ]
  },
  {
   "cell_type": "code",
   "execution_count": 18,
   "metadata": {},
   "outputs": [],
   "source": [
    "#داده 1 متراژ خانه\n",
    "sqftLivingTestInputFeatures = testData['sqft_living']\n",
    "# داده 2 اتاق خواب\n",
    "bedroomsTestInputFeatures = testData['bedrooms']\n",
    "#داده 3 قیمت \n",
    "priceTestOutputs = testData['price']\n",
    "\n",
    "# محاسبه میانگین مربعات به روی داده های تعریف کرده ایم\n",
    "sqftLivingTest_RSS = get_residual_sum_of_squares(sqftLivingTestInputFeatures, priceTestOutputs, sqftLivingIntercept,sqftLivingSlope)\n",
    "bedroomsTest_RSS = get_residual_sum_of_squares(bedroomsTestInputFeatures, priceTestOutputs, bedroomsIntercept,bedroomsSlope)"
   ]
  },
  {
   "cell_type": "code",
   "execution_count": 19,
   "metadata": {},
   "outputs": [
    {
     "name": "stdout",
     "output_type": "stream",
     "text": [
      "275402933617813.03\n",
      "493364585960301.6\n"
     ]
    }
   ],
   "source": [
    "print(sqftLivingTest_RSS)\n",
    "print(bedroomsTest_RSS)"
   ]
  },
  {
   "cell_type": "markdown",
   "metadata": {},
   "source": [
    "میپردازیم به کمترین خطا با توجه به میانگین مربعات به روی 2 مدل متراژ خانه و اتاق خواب روی داده تست و آنها را روی نمودار نمایش میدهیم"
   ]
  },
  {
   "cell_type": "markdown",
   "metadata": {},
   "source": [
    "(11)Quiz Question: Which model (square feet or bedrooms) has lowest RSS on TEST data? Think about why this might be the case."
   ]
  },
  {
   "cell_type": "code",
   "execution_count": 20,
   "metadata": {},
   "outputs": [
    {
     "data": {
      "image/png": "[encoded data removed]",
      "text/plain": [
       "<Figure size 432x288 with 1 Axes>"
      ]
     },
     "metadata": {
      "needs_background": "light"
     },
     "output_type": "display_data"
    }
   ],
   "source": [
    "plot_regression_line(sqftLivingTestInputFeatures, priceTestOutputs, sqftLivingIntercept,sqftLivingSlope,'Sqft Living','Price')"
   ]
  },
  {
   "cell_type": "code",
   "execution_count": 21,
   "metadata": {},
   "outputs": [
    {
     "data": {
      "image/png": "[encoded data removed]",
      "text/plain": [
       "<Figure size 432x288 with 1 Axes>"
      ]
     },
     "metadata": {
      "needs_background": "light"
     },
     "output_type": "display_data"
    }
   ],
   "source": [
    "plot_regression_line(bedroomsTestInputFeatures, priceTestOutputs, bedroomsIntercept,bedroomsSlope,'Bedrooms','Price')\n",
    "\n"
   ]
  }
 ],
 "metadata": {
  "kernelspec": {
   "display_name": "Python 3",
   "language": "python",
   "name": "python3"
  },
  "language_info": {
   "codemirror_mode": {
    "name": "ipython",
    "version": 3
   },
   "file_extension": ".py",
   "mimetype": "text/x-python",
   "name": "python",
   "nbconvert_exporter": "python",
   "pygments_lexer": "ipython3",
   "version": "3.7.0"
  }
 },
 "nbformat": 4,
 "nbformat_minor": 2
}
